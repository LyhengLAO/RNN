{
 "cells": [
  {
   "cell_type": "code",
   "execution_count": 1,
   "id": "03b7a1b6",
   "metadata": {},
   "outputs": [],
   "source": [
    "from __future__ import unicode_literals, print_function, division\n",
    "from io import open\n",
    "import unicodedata\n",
    "import pandas as pd\n",
    "import random\n",
    "import re\n",
    "import nltk\n",
    "from nltk.translate.bleu_score import corpus_bleu\n",
    "import matplotlib.pyplot as plt\n",
    "from nltk.translate import AlignedSent, IBMModel1"
   ]
  },
  {
   "cell_type": "code",
   "execution_count": 2,
   "id": "6426c4e0",
   "metadata": {},
   "outputs": [],
   "source": [
    "SOS_token = 0\n",
    "EOS_token = 1\n",
    "\n",
    "class Lang:\n",
    "    def __init__(self, name):\n",
    "        self.name = name\n",
    "        self.word2index = {}\n",
    "        self.word2count = {}\n",
    "        self.index2word = {0: \"SOS\", 1: \"EOS\"}\n",
    "        self.n_words = 2  # Count SOS and EOS\n",
    "\n",
    "    def addSentence(self, sentence):\n",
    "        for word in sentence.split(' '):\n",
    "            self.addWord(word)\n",
    "\n",
    "    def addWord(self, word):\n",
    "        if word not in self.word2index:\n",
    "            self.word2index[word] = self.n_words\n",
    "            self.word2count[word] = 1\n",
    "            self.index2word[self.n_words] = word\n",
    "            self.n_words += 1\n",
    "        else:\n",
    "            self.word2count[word] += 1"
   ]
  },
  {
   "cell_type": "code",
   "execution_count": 3,
   "id": "cacd0e71",
   "metadata": {},
   "outputs": [],
   "source": [
    "# Turn a Unicode string to plain ASCII, thanks to\n",
    "# https://stackoverflow.com/a/518232/2809427\n",
    "def unicodeToAscii(s):\n",
    "    return ''.join(\n",
    "        c for c in unicodedata.normalize('NFD', s)\n",
    "        if unicodedata.category(c) != 'Mn'\n",
    "    )\n",
    "\n",
    "# Lowercase, trim, and remove non-letter characters\n",
    "def normalizeString(s):\n",
    "    s = unicodeToAscii(s.lower().strip())\n",
    "    s = re.sub(r\"([.!?])\", r\" \\1\", s)\n",
    "    s = re.sub(r\"[^a-zA-Z!?]+\", r\" \", s)\n",
    "    return s.strip()"
   ]
  },
  {
   "cell_type": "code",
   "execution_count": 4,
   "id": "190a6086",
   "metadata": {},
   "outputs": [],
   "source": [
    "MAX_LENGTH = 10\n",
    "\n",
    "eng_prefixes = (\n",
    "    \"i am \", \"i m \",\n",
    "    \"he is\", \"he s \",\n",
    "    \"she is\", \"she s \",\n",
    "    \"you are\", \"you re \",\n",
    "    \"we are\", \"we re \",\n",
    "    \"they are\", \"they re \"\n",
    ")\n",
    "\n",
    "def filterPair(p):\n",
    "    return len(p[0].split(' ')) < MAX_LENGTH and \\\n",
    "        len(p[1].split(' ')) < MAX_LENGTH and \\\n",
    "        p[1].startswith(eng_prefixes)\n",
    "\n",
    "\n",
    "def filterPairs(pairs):\n",
    "    return [pair for pair in pairs if filterPair(pair)]"
   ]
  },
  {
   "cell_type": "code",
   "execution_count": 5,
   "id": "f09dfb63",
   "metadata": {},
   "outputs": [],
   "source": [
    "def readLangs(lang1, lang2, reverse=False):\n",
    "    print(\"Reading lines...\")\n",
    "\n",
    "    # Read the file and split into lines\n",
    "    lines = open('%s-%s.txt' % (lang1, lang2), encoding='utf-8').\\\n",
    "        read().strip().split('\\n')\n",
    "\n",
    "    # Split every line into pairs and normalize\n",
    "    pairs = [[normalizeString(s) for s in l.split('\\t')] for l in lines]\n",
    "\n",
    "    # Reverse pairs, make Lang instances\n",
    "    if reverse:\n",
    "        pairs = [list(reversed(p)) for p in pairs]\n",
    "        input_lang = Lang(lang2)\n",
    "        output_lang = Lang(lang1)\n",
    "    else:\n",
    "        input_lang = Lang(lang1)\n",
    "        output_lang = Lang(lang2)\n",
    "\n",
    "    return input_lang, output_lang, pairs"
   ]
  },
  {
   "cell_type": "code",
   "execution_count": 6,
   "id": "e57a4e50",
   "metadata": {},
   "outputs": [
    {
     "name": "stdout",
     "output_type": "stream",
     "text": [
      "Reading lines...\n",
      "Read 135842 sentence pairs\n",
      "Trimmed to 11445 sentence pairs\n",
      "Counting words...\n",
      "Counted words:\n",
      "fra 4601\n",
      "eng 2991\n",
      "['il va s asseoir ici', 'he s going to sit here']\n"
     ]
    }
   ],
   "source": [
    "def prepareData(lang1, lang2, reverse=False):\n",
    "    input_lang, output_lang, pairs = readLangs(lang1, lang2, reverse)\n",
    "    print(\"Read %s sentence pairs\" % len(pairs))\n",
    "    pairs = filterPairs(pairs)\n",
    "    print(\"Trimmed to %s sentence pairs\" % len(pairs))\n",
    "    print(\"Counting words...\")\n",
    "    for pair in pairs:\n",
    "        input_lang.addSentence(pair[0])\n",
    "        output_lang.addSentence(pair[1])\n",
    "    print(\"Counted words:\")\n",
    "    print(input_lang.name, input_lang.n_words)\n",
    "    print(output_lang.name, output_lang.n_words)\n",
    "    return input_lang, output_lang, pairs\n",
    "\n",
    "input_lang, output_lang, pairs = prepareData('eng', 'fra', True)\n",
    "print(random.choice(pairs))"
   ]
  },
  {
   "cell_type": "code",
   "execution_count": 7,
   "id": "d3ac31ac",
   "metadata": {},
   "outputs": [
    {
     "data": {
      "text/plain": [
       "['je vais bien', 'i m ok']"
      ]
     },
     "execution_count": 7,
     "metadata": {},
     "output_type": "execute_result"
    }
   ],
   "source": [
    "pairs[0]"
   ]
  },
  {
   "cell_type": "code",
   "execution_count": 8,
   "id": "ce15c54c",
   "metadata": {},
   "outputs": [],
   "source": [
    "def clean_sentences(sentences):\n",
    "    cleaned_sentences = []\n",
    "    for sentence in sentences:\n",
    "        sentence = sentence.strip()\n",
    "        sentence = sentence.lower()\n",
    "        sentence = re.sub(r\"[^a-zA-Z0-9]+\", \" \", sentence)\n",
    "        cleaned_sentences.append(sentence.strip())\n",
    "    return cleaned_sentences"
   ]
  },
  {
   "cell_type": "code",
   "execution_count": 9,
   "id": "16de6730",
   "metadata": {},
   "outputs": [],
   "source": [
    "eng_sentence = []\n",
    "fr_sentence = []\n",
    "\n",
    "for pair in pairs:\n",
    "    eng_sentence.append(pair[1])\n",
    "    fr_sentence.append(pair[0])"
   ]
  },
  {
   "cell_type": "code",
   "execution_count": 10,
   "id": "6b9e623a",
   "metadata": {},
   "outputs": [],
   "source": [
    "eng_sentences = clean_sentences(eng_sentence)\n",
    "fr_sentences = clean_sentences(fr_sentence)"
   ]
  },
  {
   "cell_type": "code",
   "execution_count": 11,
   "id": "b8c0062a",
   "metadata": {},
   "outputs": [],
   "source": [
    "#simple iteration\n",
    "#def train_translation_model(source_sentences, target_sentences):\n",
    "#    aligned_sentences = [AlignedSent(source.split(), target.split()) for source, target in zip(source_sentences, target_sentences)]\n",
    "#    ibm_model = IBMModel1(aligned_sentences, 10)\n",
    "#    return ibm_model\n",
    "#\n",
    "#translation_model = train_translation_model(fr_sentences, eng_sentences)\n",
    "\n",
    "def train_translation_model(source_sentences, target_sentences, iterations):\n",
    "    aligned_sentences = [AlignedSent(source.split(), target.split()) for source, target in zip(source_sentences, target_sentences)]\n",
    "    ibm_model = IBMModel1(aligned_sentences, iterations)\n",
    "    return ibm_model"
   ]
  },
  {
   "cell_type": "code",
   "execution_count": 12,
   "id": "2e676c99",
   "metadata": {},
   "outputs": [],
   "source": [
    "def translate_sentence(ibm_model, sentence):\n",
    "    cleaned_text = clean_sentences([sentence])[0]\n",
    "    source_words = cleaned_text.split()\n",
    "    translated_words = []\n",
    "    for source_word in source_words:\n",
    "        max_prob = 0.0\n",
    "        translated_word = None\n",
    "        for target_word in ibm_model.translation_table[source_word]:\n",
    "            prob = ibm_model.translation_table[source_word][target_word]\n",
    "            if prob > max_prob:\n",
    "                max_prob = prob\n",
    "                translated_word = target_word\n",
    "        if translated_word is not None:\n",
    "            translated_words.append(translated_word)\n",
    "    translated_text = ' '.join(translated_words)\n",
    "    return translated_text"
   ]
  },
  {
   "cell_type": "code",
   "execution_count": 13,
   "id": "ae3de37e",
   "metadata": {},
   "outputs": [],
   "source": [
    "#not for iteration\n",
    "#def calculate_corpus_bleu_score(ibm_model, source_sentences, reference_sentences):\n",
    "#    translated_sentences = [translate_sentence(ibm_model, sentence) for sentence in source_sentences]\n",
    "#    reference_tokens = [[ref.split()] for ref in reference_sentences]\n",
    "#    translated_tokens = [trans.split() for trans in translated_sentences]\n",
    "#    bleu_score = corpus_bleu(reference_tokens, translated_tokens)\n",
    "#    return bleu_score\n",
    "\n",
    "def calculate_corpus_bleu_score(source_sentences, reference_sentences, translated_sentences):\n",
    "    reference_tokens = [[ref.split()] for ref in reference_sentences]\n",
    "    translated_tokens = [trans.split() for trans in translated_sentences]\n",
    "    bleu_score = corpus_bleu(reference_tokens, translated_tokens)\n",
    "    return bleu_score"
   ]
  },
  {
   "cell_type": "code",
   "execution_count": 14,
   "id": "4d97094f",
   "metadata": {},
   "outputs": [
    {
     "name": "stderr",
     "output_type": "stream",
     "text": [
      "C:\\Users\\Neo\\anaconda3\\Lib\\site-packages\\nltk\\translate\\bleu_score.py:552: UserWarning: \n",
      "The hypothesis contains 0 counts of 4-gram overlaps.\n",
      "Therefore the BLEU score evaluates to 0, independently of\n",
      "how many N-gram overlaps of lower order it contains.\n",
      "Consider using lower n-gram order or use SmoothingFunction()\n",
      "  warnings.warn(_msg)\n"
     ]
    },
    {
     "name": "stdout",
     "output_type": "stream",
     "text": [
      "Iteration 1, BLEU score: 9.357953449629124e-80\n",
      "Iteration 2, BLEU score: 0.0512652966973991\n",
      "Iteration 3, BLEU score: 0.08612004139886084\n",
      "Iteration 4, BLEU score: 0.08724829072944654\n",
      "Iteration 5, BLEU score: 0.08140656052049594\n",
      "Iteration 6, BLEU score: 0.0818065882905302\n",
      "Iteration 7, BLEU score: 0.08151929222804939\n",
      "Iteration 8, BLEU score: 0.08144211418503321\n",
      "Iteration 9, BLEU score: 0.08119028782477389\n",
      "Iteration 10, BLEU score: 0.08117612715774986\n",
      "Iteration 11, BLEU score: 0.08072245174349604\n",
      "Iteration 12, BLEU score: 0.08102582800319312\n",
      "Iteration 13, BLEU score: 0.08106734711429278\n",
      "Iteration 14, BLEU score: 0.08114157514196184\n",
      "Iteration 15, BLEU score: 0.08115755553984762\n",
      "Iteration 16, BLEU score: 0.08115755553984762\n",
      "Iteration 17, BLEU score: 0.08114627693319104\n",
      "Iteration 18, BLEU score: 0.0811083243559264\n",
      "Iteration 19, BLEU score: 0.0811083243559264\n",
      "Iteration 20, BLEU score: 0.08110899002125144\n",
      "Iteration 21, BLEU score: 0.08110634864897208\n",
      "Iteration 22, BLEU score: 0.08093773037555149\n",
      "Iteration 23, BLEU score: 0.08093839533934373\n",
      "Iteration 24, BLEU score: 0.08184131462799013\n",
      "Iteration 25, BLEU score: 0.08183667923772346\n",
      "Iteration 26, BLEU score: 0.08183667923772346\n",
      "Iteration 27, BLEU score: 0.08183472235093621\n",
      "Iteration 28, BLEU score: 0.08183537466213005\n",
      "Iteration 29, BLEU score: 0.08183537466213005\n",
      "Iteration 30, BLEU score: 0.08183537466213005\n",
      "Iteration 31, BLEU score: 0.08183537466213005\n",
      "Iteration 32, BLEU score: 0.08405459963625428\n",
      "Iteration 33, BLEU score: 0.08406061815778404\n",
      "Iteration 34, BLEU score: 0.08406128238768021\n",
      "Iteration 35, BLEU score: 0.08406128238768021\n",
      "Iteration 36, BLEU score: 0.08406128238768021\n",
      "Iteration 37, BLEU score: 0.08406128238768021\n",
      "Iteration 38, BLEU score: 0.08406128238768021\n",
      "Iteration 39, BLEU score: 0.08406128238768021\n",
      "Iteration 40, BLEU score: 0.08406128238768021\n",
      "Iteration 41, BLEU score: 0.08406128238768021\n",
      "Iteration 42, BLEU score: 0.08406194660183103\n",
      "Iteration 43, BLEU score: 0.08406194660183103\n",
      "Iteration 44, BLEU score: 0.08406194660183103\n",
      "Iteration 45, BLEU score: 0.08406194660183103\n",
      "Iteration 46, BLEU score: 0.08406194660183103\n",
      "Iteration 47, BLEU score: 0.08406194660183103\n",
      "Iteration 48, BLEU score: 0.08406194660183103\n",
      "Iteration 49, BLEU score: 0.08406194660183103\n",
      "Iteration 50, BLEU score: 0.08406460330099848\n",
      "Iteration 51, BLEU score: 0.08406460330099848\n",
      "Iteration 52, BLEU score: 0.08406460330099848\n",
      "Iteration 53, BLEU score: 0.08406460330099848\n",
      "Iteration 54, BLEU score: 0.08406460330099848\n",
      "Iteration 55, BLEU score: 0.08406460330099848\n",
      "Iteration 56, BLEU score: 0.08406460330099848\n",
      "Iteration 57, BLEU score: 0.08406460330099848\n",
      "Iteration 58, BLEU score: 0.08406460330099848\n",
      "Iteration 59, BLEU score: 0.08406460330099848\n",
      "Iteration 60, BLEU score: 0.08406460330099848\n",
      "Iteration 61, BLEU score: 0.08406460330099848\n",
      "Iteration 62, BLEU score: 0.08406460330099848\n",
      "Iteration 63, BLEU score: 0.08406460330099848\n",
      "Iteration 64, BLEU score: 0.08406460330099848\n",
      "Iteration 65, BLEU score: 0.08406460330099848\n",
      "Iteration 66, BLEU score: 0.08406460330099848\n",
      "Iteration 67, BLEU score: 0.08406460330099848\n",
      "Iteration 68, BLEU score: 0.08406460330099848\n",
      "Iteration 69, BLEU score: 0.08406460330099848\n",
      "Iteration 70, BLEU score: 0.08406460330099848\n",
      "Iteration 71, BLEU score: 0.08406124159090435\n",
      "Iteration 72, BLEU score: 0.08406124159090435\n",
      "Iteration 73, BLEU score: 0.08406124159090435\n",
      "Iteration 74, BLEU score: 0.08406124159090435\n",
      "Iteration 75, BLEU score: 0.08406124159090435\n",
      "Iteration 76, BLEU score: 0.08406124159090435\n",
      "Iteration 77, BLEU score: 0.08406124159090435\n",
      "Iteration 78, BLEU score: 0.08406124159090435\n",
      "Iteration 79, BLEU score: 0.08406124159090435\n",
      "Iteration 80, BLEU score: 0.08406124159090435\n"
     ]
    }
   ],
   "source": [
    "iterations = 80\n",
    "bleu_scores = []\n",
    "\n",
    "# Train and evaluate the model for each iteration\n",
    "for i in range(1, iterations + 1):\n",
    "    ibm_model = train_translation_model(fr_sentences, eng_sentences, i)\n",
    "    translated_sentences = [translate_sentence(ibm_model, sentence) for sentence in fr_sentences]\n",
    "    bleu_score = calculate_corpus_bleu_score(fr_sentences, eng_sentences, translated_sentences)\n",
    "    bleu_scores.append(bleu_score)\n",
    "    print(f'Iteration {i}, BLEU score: {bleu_score}')"
   ]
  },
  {
   "cell_type": "code",
   "execution_count": 15,
   "id": "06cf4d00",
   "metadata": {
    "scrolled": true
   },
   "outputs": [
    {
     "ename": "NameError",
     "evalue": "name 'translation_model' is not defined",
     "output_type": "error",
     "traceback": [
      "\u001b[1;31m---------------------------------------------------------------------------\u001b[0m",
      "\u001b[1;31mNameError\u001b[0m                                 Traceback (most recent call last)",
      "Cell \u001b[1;32mIn[15], line 23\u001b[0m\n\u001b[0;32m     21\u001b[0m         \u001b[38;5;28mprint\u001b[39m(\u001b[38;5;124m\"\u001b[39m\u001b[38;5;124mTranslated text:\u001b[39m\u001b[38;5;124m\"\u001b[39m, translated_text,\u001b[38;5;124m'\u001b[39m\u001b[38;5;124m, ||avec proba:\u001b[39m\u001b[38;5;124m'\u001b[39m,{max_prob},\u001b[38;5;124m'\u001b[39m\u001b[38;5;124m||\u001b[39m\u001b[38;5;124m'\u001b[39m)\n\u001b[0;32m     22\u001b[0m         \u001b[38;5;28mprint\u001b[39m()\n\u001b[1;32m---> 23\u001b[0m translate_input(translation_model)\n",
      "\u001b[1;31mNameError\u001b[0m: name 'translation_model' is not defined"
     ]
    }
   ],
   "source": [
    "def translate_input(ibm_model):\n",
    "    while True:\n",
    "        source_text = input(\"Enter the English sentence to translate (or 'q' to quit): \")\n",
    "        if source_text.lower() == 'q':\n",
    "            print(\"Quitting...\")\n",
    "            break\n",
    "        cleaned_text = clean_sentences(source_text.split())\n",
    "        source_words = cleaned_text\n",
    "        translated_words = []\n",
    "        for source_word in source_words:\n",
    "            max_prob = 0.0\n",
    "            translated_word = None\n",
    "            for target_word in ibm_model.translation_table[source_word]:\n",
    "                prob = ibm_model.translation_table[source_word][target_word]\n",
    "                if prob > max_prob:\n",
    "                    max_prob = prob\n",
    "                    translated_word = target_word\n",
    "            if translated_word is not None:\n",
    "                translated_words.append(translated_word)\n",
    "        translated_text = ' '.join(translated_words)\n",
    "        print(\"Translated text:\", translated_text,', ||avec proba:',{max_prob},'||')\n",
    "        print()\n",
    "translate_input(translation_model)"
   ]
  },
  {
   "cell_type": "code",
   "execution_count": 25,
   "id": "a978c876",
   "metadata": {
    "scrolled": true
   },
   "outputs": [
    {
     "name": "stdout",
     "output_type": "stream",
     "text": [
      "Enter the English sentence to translate (or 'q' to quit): I\n",
      "Translated text:  , ||avec proba: {0.0} ||\n",
      "\n",
      "Enter the English sentence to translate (or 'q' to quit): je\n",
      "Translated text: m , ||avec proba: {0.5973887369290085} ||\n",
      "\n",
      "Enter the English sentence to translate (or 'q' to quit): je ne suis pas un doctor\n",
      "Translated text: m don i t a , ||avec proba: {0.0} ||\n",
      "\n",
      "Enter the English sentence to translate (or 'q' to quit): il\n",
      "Translated text: he , ||avec proba: {0.9991930928021787} ||\n",
      "\n",
      "Enter the English sentence to translate (or 'q' to quit): il est bien\n",
      "Translated text: he is well , ||avec proba: {0.6555348497085084} ||\n",
      "\n",
      "Enter the English sentence to translate (or 'q' to quit): enseignant\n",
      "Translated text: staff , ||avec proba: {0.2000000000126121} ||\n",
      "\n",
      "Enter the English sentence to translate (or 'q' to quit): tu\n",
      "Translated text: you , ||avec proba: {0.28594943228794073} ||\n",
      "\n",
      "Enter the English sentence to translate (or 'q' to quit): I\n",
      "Translated text:  , ||avec proba: {0.0} ||\n",
      "\n",
      "Enter the English sentence to translate (or 'q' to quit): JE\n",
      "Translated text: m , ||avec proba: {0.5973887369290085} ||\n",
      "\n",
      "Enter the English sentence to translate (or 'q' to quit): nous\n",
      "Translated text: us , ||avec proba: {0.6638964858597766} ||\n",
      "\n",
      "Enter the English sentence to translate (or 'q' to quit): nous sommes\n",
      "Translated text: us we , ||avec proba: {0.38003873152262835} ||\n",
      "\n",
      "Enter the English sentence to translate (or 'q' to quit): nous sommes bien\n",
      "Translated text: us we well , ||avec proba: {0.6555348497085084} ||\n",
      "\n",
      "Enter the English sentence to translate (or 'q' to quit): etre\n",
      "Translated text: be , ||avec proba: {0.7011078799886078} ||\n",
      "\n",
      "Enter the English sentence to translate (or 'q' to quit): avoir\n",
      "Translated text: have , ||avec proba: {0.5920368885217049} ||\n",
      "\n",
      "Enter the English sentence to translate (or 'q' to quit): j'ai le probleme\n",
      "Translated text: beat problem , ||avec proba: {0.5646754497350228} ||\n",
      "\n",
      "Enter the English sentence to translate (or 'q' to quit): j'ai\n",
      "Translated text:  , ||avec proba: {0.0} ||\n",
      "\n",
      "Enter the English sentence to translate (or 'q' to quit): q\n",
      "Quitting...\n"
     ]
    }
   ],
   "source": [
    "def translate_input(ibm_model):\n",
    "    while True:\n",
    "        source_text = input(\"Enter the English sentence to translate (or 'q' to quit): \")\n",
    "        if source_text.lower() == 'q':\n",
    "            print(\"Quitting...\")\n",
    "            break\n",
    "        cleaned_text = clean_sentences(source_text.split())\n",
    "        source_words = cleaned_text\n",
    "        translated_words = []\n",
    "        for source_word in source_words:\n",
    "            max_prob = 0.0\n",
    "            translated_word = None\n",
    "            for target_word in ibm_model.translation_table[source_word]:\n",
    "                prob = ibm_model.translation_table[source_word][target_word]\n",
    "                if prob > max_prob:\n",
    "                    max_prob = prob\n",
    "                    translated_word = target_word\n",
    "            if translated_word is not None:\n",
    "                translated_words.append(translated_word)\n",
    "        translated_text = ' '.join(translated_words)\n",
    "        print(\"Translated text:\", translated_text,', ||avec proba:',{max_prob},'||')\n",
    "        print()\n",
    "translate_input(ibm_model)"
   ]
  },
  {
   "cell_type": "code",
   "execution_count": 33,
   "id": "cff74050",
   "metadata": {},
   "outputs": [
    {
     "data": {
      "image/png": "[encoded data removed]",
      "text/plain": [
       "<Figure size 640x480 with 1 Axes>"
      ]
     },
     "metadata": {},
     "output_type": "display_data"
    }
   ],
   "source": [
    "plt.plot(bleu_scores)\n",
    "plt.xlabel('epoch')\n",
    "plt.ylabel('bleu score')\n",
    "plt.grid(True)\n",
    "plt.title('Bleu score sur le IBM (simple STM)')\n",
    "plt.savefig('STM BLEU scores.png', dpi = 300)"
   ]
  },
  {
   "cell_type": "code",
   "execution_count": null,
   "id": "74f02a1e",
   "metadata": {},
   "outputs": [],
   "source": []
  }
 ],
 "metadata": {
  "kernelspec": {
   "display_name": "Python 3 (ipykernel)",
   "language": "python",
   "name": "python3"
  },
  "language_info": {
   "codemirror_mode": {
    "name": "ipython",
    "version": 3
   },
   "file_extension": ".py",
   "mimetype": "text/x-python",
   "name": "python",
   "nbconvert_exporter": "python",
   "pygments_lexer": "ipython3",
   "version": "3.11.7"
  }
 },
 "nbformat": 4,
 "nbformat_minor": 5
}
